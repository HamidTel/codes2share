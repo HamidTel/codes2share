{
 "cells": [
  {
   "cell_type": "code",
   "execution_count": null,
   "metadata": {},
   "outputs": [],
   "source": [
    "import os\n",
    "import splunklib"
   ]
  },
  {
   "cell_type": "code",
   "execution_count": null,
   "metadata": {},
   "outputs": [],
   "source": [
    "os.getcwd()"
   ]
  },
  {
   "cell_type": "code",
   "execution_count": 2,
   "metadata": {},
   "outputs": [],
   "source": [
    "from splunklib import client\n",
    "import splunklib.results as results\n",
    "import pandas as pd\n",
    "import numpy as np\n",
    "import datetime\n",
    "\n",
    "\n",
    "f = open('PW.txt','r') # create a .txt file in the root folder and call it PW. only put your password in the file (no extra characters)\n",
    "PW=f.read()\n",
    "\n",
    "service = client.connect(host=\"100.70.36.111\", port=8089, username=\"t928538\", password=PW, app=\"pm_huawei_data\") #Change username to own user\n"
   ]
  },
  {
   "cell_type": "code",
   "execution_count": 3,
   "metadata": {},
   "outputs": [
    {
     "name": "stdout",
     "output_type": "stream",
     "text": [
      "2022-12-01T15:26:15.989115\n",
      "2022-11-01T15:26:15.989115\n",
      "2022-11-24T15:26:15.989115\n",
      "2022-11-30T15:26:15.989115\n"
     ]
    }
   ],
   "source": [
    "now = datetime.datetime.now()\n",
    "latest_time=now.isoformat()\n",
    "\n",
    "earliest_time_1month=(now - datetime.timedelta(days=now.day)).replace(day=now.day).isoformat()\n",
    "earliest_time_1week = (now-datetime.timedelta(days=7)).isoformat()\n",
    "earliest_time_1day = (now-datetime.timedelta(days=1)).isoformat()\n",
    "print(latest_time)\n",
    "print(earliest_time_1month)\n",
    "print(earliest_time_1week)\n",
    "print(earliest_time_1day)"
   ]
  },
  {
   "cell_type": "code",
   "execution_count": 4,
   "metadata": {},
   "outputs": [],
   "source": [
    "site_list=\"AB1872,AB0010,AB0038,\""
   ]
  },
  {
   "cell_type": "code",
   "execution_count": 14,
   "metadata": {},
   "outputs": [],
   "source": [
    "kpi_list=\"VoLTE_DCR,VoLTE_AFR\""
   ]
  },
  {
   "cell_type": "code",
   "execution_count": 15,
   "metadata": {},
   "outputs": [],
   "source": [
    "start_time=\"2022-11-01 00:00:00\"\n",
    "end_time=\"2022-11-05 00:00:00\"\n",
    "\n",
    "start_time=datetime.datetime.strptime(start_time, '%Y-%m-%d %H:%M:%S').isoformat()\n",
    "end_time=datetime.datetime.strptime(end_time, '%Y-%m-%d %H:%M:%S').isoformat()\n"
   ]
  },
  {
   "cell_type": "code",
   "execution_count": 16,
   "metadata": {},
   "outputs": [
    {
     "data": {
      "text/plain": [
       "('2022-11-01T00:00:00', '2022-11-05T00:00:00')"
      ]
     },
     "execution_count": 16,
     "metadata": {},
     "output_type": "execute_result"
    }
   ],
   "source": [
    "start_time,end_time"
   ]
  },
  {
   "cell_type": "code",
   "execution_count": 17,
   "metadata": {},
   "outputs": [],
   "source": [
    " kwargs_custom = {\"earliest_time\": start_time,\n",
    "            \"latest_time\": end_time ,\n",
    "            \"outout_mode\": \"CSV\",\n",
    "            \"count\": 0}"
   ]
  },
  {
   "cell_type": "code",
   "execution_count": 18,
   "metadata": {},
   "outputs": [],
   "source": [
    "def splunk_query_tocsv(query, kwargs, csvfilename):\n",
    "    a = datetime.datetime.now()\n",
    "    query_results=service.jobs.oneshot(query, **kwargs)\n",
    "    reader=results.ResultsReader(query_results)\n",
    "    print('Querying Splunk...')\n",
    "    df=pd.DataFrame()\n",
    "    for result in reader:\n",
    "        if isinstance(result, dict):\n",
    "            df=df.append(result, ignore_index=True)\n",
    "    print(csvfilename + ' Saved!')\n",
    "    df.to_csv(csvfilename +'.csv', index=False)\n",
    "    b = datetime.datetime.now()\n",
    "    print('Time Taken: ', (b-a))\n",
    "    return df"
   ]
  },
  {
   "cell_type": "code",
   "execution_count": 19,
   "metadata": {},
   "outputs": [],
   "source": [
    "perf_query='''\n",
    "    | `PmTimeseries(\"1d\",\"Coverage_SiteID\",\"{SiteID}\",\"Vendor,SiteID,Sector,Band,CellName\",\"{kpi_list}\")`\n",
    "    '''.format(SiteID=site_list,kpi_list=kpi_list)"
   ]
  },
  {
   "cell_type": "code",
   "execution_count": 21,
   "metadata": {},
   "outputs": [
    {
     "name": "stdout",
     "output_type": "stream",
     "text": [
      "Querying Splunk...\n",
      "sample00 Saved!\n",
      "Time Taken:  0:00:48.807957\n"
     ]
    },
    {
     "data": {
      "text/html": [
       "<div>\n",
       "<style scoped>\n",
       "    .dataframe tbody tr th:only-of-type {\n",
       "        vertical-align: middle;\n",
       "    }\n",
       "\n",
       "    .dataframe tbody tr th {\n",
       "        vertical-align: top;\n",
       "    }\n",
       "\n",
       "    .dataframe thead th {\n",
       "        text-align: right;\n",
       "    }\n",
       "</style>\n",
       "<table border=\"1\" class=\"dataframe\">\n",
       "  <thead>\n",
       "    <tr style=\"text-align: right;\">\n",
       "      <th></th>\n",
       "      <th>_time</th>\n",
       "      <th>Vendor</th>\n",
       "      <th>SiteID</th>\n",
       "      <th>Sector</th>\n",
       "      <th>Band</th>\n",
       "      <th>CellName</th>\n",
       "      <th>VoLTE_DCR</th>\n",
       "      <th>VoLTE_AFR</th>\n",
       "    </tr>\n",
       "  </thead>\n",
       "  <tbody>\n",
       "    <tr>\n",
       "      <th>0</th>\n",
       "      <td>2022-11-01T00:00:00.000-06:00</td>\n",
       "      <td>Huawei</td>\n",
       "      <td>AB000088</td>\n",
       "      <td>AB000088-1</td>\n",
       "      <td>1900-1</td>\n",
       "      <td>LTJAB0372479-040-1900-1-1</td>\n",
       "      <td>0</td>\n",
       "      <td>0</td>\n",
       "    </tr>\n",
       "    <tr>\n",
       "      <th>1</th>\n",
       "      <td>2022-11-01T00:00:00.000-06:00</td>\n",
       "      <td>Huawei</td>\n",
       "      <td>AB000088</td>\n",
       "      <td>AB000088-1</td>\n",
       "      <td>1900-1</td>\n",
       "      <td>LTJAB0372480-040-1900-1-1</td>\n",
       "      <td>0</td>\n",
       "      <td>0</td>\n",
       "    </tr>\n",
       "    <tr>\n",
       "      <th>2</th>\n",
       "      <td>2022-11-01T00:00:00.000-06:00</td>\n",
       "      <td>Huawei</td>\n",
       "      <td>AB000088</td>\n",
       "      <td>AB000088-1</td>\n",
       "      <td>1900-1</td>\n",
       "      <td>LTJAB0372481-040-1900-1-1</td>\n",
       "      <td>0</td>\n",
       "      <td>0</td>\n",
       "    </tr>\n",
       "    <tr>\n",
       "      <th>3</th>\n",
       "      <td>2022-11-01T00:00:00.000-06:00</td>\n",
       "      <td>Huawei</td>\n",
       "      <td>AB000088</td>\n",
       "      <td>AB000088-1</td>\n",
       "      <td>1900-1</td>\n",
       "      <td>LTJAB0372482-040-1900-1-1</td>\n",
       "      <td>0</td>\n",
       "      <td>0</td>\n",
       "    </tr>\n",
       "    <tr>\n",
       "      <th>4</th>\n",
       "      <td>2022-11-01T00:00:00.000-06:00</td>\n",
       "      <td>Huawei</td>\n",
       "      <td>AB000088</td>\n",
       "      <td>AB000088-1</td>\n",
       "      <td>1900-1</td>\n",
       "      <td>LTJAB0372483-040-1900-1-1</td>\n",
       "      <td>0</td>\n",
       "      <td>0</td>\n",
       "    </tr>\n",
       "    <tr>\n",
       "      <th>...</th>\n",
       "      <td>...</td>\n",
       "      <td>...</td>\n",
       "      <td>...</td>\n",
       "      <td>...</td>\n",
       "      <td>...</td>\n",
       "      <td>...</td>\n",
       "      <td>...</td>\n",
       "      <td>...</td>\n",
       "    </tr>\n",
       "    <tr>\n",
       "      <th>2903</th>\n",
       "      <td>2022-11-04T00:00:00.000-06:00</td>\n",
       "      <td>Samsung</td>\n",
       "      <td>AB2036</td>\n",
       "      <td>AB2036-3</td>\n",
       "      <td>2100-1</td>\n",
       "      <td>LTSAB0223351-002-2100-1-3</td>\n",
       "      <td>0</td>\n",
       "      <td>0</td>\n",
       "    </tr>\n",
       "    <tr>\n",
       "      <th>2904</th>\n",
       "      <td>2022-11-04T00:00:00.000-06:00</td>\n",
       "      <td>Samsung</td>\n",
       "      <td>AB2036</td>\n",
       "      <td>AB2036-3</td>\n",
       "      <td>700-1</td>\n",
       "      <td>LTSAB0223351-012-0700-1-3</td>\n",
       "      <td>1.1695906432748537</td>\n",
       "      <td>0</td>\n",
       "    </tr>\n",
       "    <tr>\n",
       "      <th>2905</th>\n",
       "      <td>2022-11-04T00:00:00.000-06:00</td>\n",
       "      <td>Samsung</td>\n",
       "      <td>AB2036</td>\n",
       "      <td>AB2036-3</td>\n",
       "      <td>700-2</td>\n",
       "      <td>LTSAB0223351-022-0700-2-3</td>\n",
       "      <td>0</td>\n",
       "      <td>0</td>\n",
       "    </tr>\n",
       "    <tr>\n",
       "      <th>2906</th>\n",
       "      <td>2022-11-04T00:00:00.000-06:00</td>\n",
       "      <td>Samsung</td>\n",
       "      <td>AB2036</td>\n",
       "      <td>AB2036-3</td>\n",
       "      <td>700-3</td>\n",
       "      <td>LTSAB0223351-032-0700-3-3</td>\n",
       "      <td>NaN</td>\n",
       "      <td>NaN</td>\n",
       "    </tr>\n",
       "    <tr>\n",
       "      <th>2907</th>\n",
       "      <td>2022-11-04T00:00:00.000-06:00</td>\n",
       "      <td>Samsung</td>\n",
       "      <td>AB2036</td>\n",
       "      <td>AB2036-3</td>\n",
       "      <td>850-1</td>\n",
       "      <td>LTSAB0223351-072-0850-1-3</td>\n",
       "      <td>0</td>\n",
       "      <td>0.4098360655737705</td>\n",
       "    </tr>\n",
       "  </tbody>\n",
       "</table>\n",
       "<p>2908 rows × 8 columns</p>\n",
       "</div>"
      ],
      "text/plain": [
       "                              _time   Vendor    SiteID      Sector    Band  \\\n",
       "0     2022-11-01T00:00:00.000-06:00   Huawei  AB000088  AB000088-1  1900-1   \n",
       "1     2022-11-01T00:00:00.000-06:00   Huawei  AB000088  AB000088-1  1900-1   \n",
       "2     2022-11-01T00:00:00.000-06:00   Huawei  AB000088  AB000088-1  1900-1   \n",
       "3     2022-11-01T00:00:00.000-06:00   Huawei  AB000088  AB000088-1  1900-1   \n",
       "4     2022-11-01T00:00:00.000-06:00   Huawei  AB000088  AB000088-1  1900-1   \n",
       "...                             ...      ...       ...         ...     ...   \n",
       "2903  2022-11-04T00:00:00.000-06:00  Samsung    AB2036    AB2036-3  2100-1   \n",
       "2904  2022-11-04T00:00:00.000-06:00  Samsung    AB2036    AB2036-3   700-1   \n",
       "2905  2022-11-04T00:00:00.000-06:00  Samsung    AB2036    AB2036-3   700-2   \n",
       "2906  2022-11-04T00:00:00.000-06:00  Samsung    AB2036    AB2036-3   700-3   \n",
       "2907  2022-11-04T00:00:00.000-06:00  Samsung    AB2036    AB2036-3   850-1   \n",
       "\n",
       "                       CellName           VoLTE_DCR           VoLTE_AFR  \n",
       "0     LTJAB0372479-040-1900-1-1                   0                   0  \n",
       "1     LTJAB0372480-040-1900-1-1                   0                   0  \n",
       "2     LTJAB0372481-040-1900-1-1                   0                   0  \n",
       "3     LTJAB0372482-040-1900-1-1                   0                   0  \n",
       "4     LTJAB0372483-040-1900-1-1                   0                   0  \n",
       "...                         ...                 ...                 ...  \n",
       "2903  LTSAB0223351-002-2100-1-3                   0                   0  \n",
       "2904  LTSAB0223351-012-0700-1-3  1.1695906432748537                   0  \n",
       "2905  LTSAB0223351-022-0700-2-3                   0                   0  \n",
       "2906  LTSAB0223351-032-0700-3-3                 NaN                 NaN  \n",
       "2907  LTSAB0223351-072-0850-1-3                   0  0.4098360655737705  \n",
       "\n",
       "[2908 rows x 8 columns]"
      ]
     },
     "execution_count": 21,
     "metadata": {},
     "output_type": "execute_result"
    }
   ],
   "source": [
    "splunk_query_tocsv(query=perf_query,kwargs=kwargs_custom,csvfilename='sample00')"
   ]
  },
  {
   "cell_type": "code",
   "execution_count": null,
   "metadata": {},
   "outputs": [],
   "source": []
  }
 ],
 "metadata": {
  "kernelspec": {
   "display_name": "Python 3",
   "language": "python",
   "name": "python3"
  },
  "language_info": {
   "codemirror_mode": {
    "name": "ipython",
    "version": 3
   },
   "file_extension": ".py",
   "mimetype": "text/x-python",
   "name": "python",
   "nbconvert_exporter": "python",
   "pygments_lexer": "ipython3",
   "version": "3.8.3"
  }
 },
 "nbformat": 4,
 "nbformat_minor": 4
}
